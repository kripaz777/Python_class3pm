{
 "cells": [
  {
   "cell_type": "code",
   "execution_count": 1,
   "id": "d20d4fad",
   "metadata": {},
   "outputs": [],
   "source": [
    "# Dictionary\n",
    "# -Indexing\n",
    "# -Ordered\n",
    "# -Mutable\n",
    "# -Multiple and duplicate data"
   ]
  },
  {
   "cell_type": "code",
   "execution_count": 3,
   "id": "628ac1cd",
   "metadata": {},
   "outputs": [
    {
     "name": "stdout",
     "output_type": "stream",
     "text": [
      "<class 'dict'>\n",
      "<class 'dict'>\n"
     ]
    }
   ],
   "source": [
    "d = {}\n",
    "e = dict()\n",
    "print(type(d))\n",
    "print(type(d))"
   ]
  },
  {
   "cell_type": "code",
   "execution_count": 4,
   "id": "094f4caa",
   "metadata": {},
   "outputs": [
    {
     "name": "stdout",
     "output_type": "stream",
     "text": [
      "{1: 1, 2: 4, 3: 9, 4: 16} {'a': 'apple', 'b': 'ball', 'c': 'cat'}\n",
      "<class 'dict'> <class 'dict'>\n"
     ]
    }
   ],
   "source": [
    "# d = {<key>:<value>,<key>:<value>}\n",
    "d = {'a':'apple','b':'ball','c':'cat'}\n",
    "a = {1:1,2:4,3:9,4:16}\n",
    "print(a,d)\n",
    "print(type(a),type(d))"
   ]
  },
  {
   "cell_type": "code",
   "execution_count": 7,
   "id": "874a0b55",
   "metadata": {},
   "outputs": [
    {
     "data": {
      "text/plain": [
       "'apple'"
      ]
     },
     "execution_count": 7,
     "metadata": {},
     "output_type": "execute_result"
    }
   ],
   "source": [
    "d['a']"
   ]
  },
  {
   "cell_type": "code",
   "execution_count": 8,
   "id": "3770e8aa",
   "metadata": {},
   "outputs": [
    {
     "data": {
      "text/plain": [
       "{'a': 'apple', 'b': 'ball', 'c': 'cat', 'C': 'cat'}"
      ]
     },
     "execution_count": 8,
     "metadata": {},
     "output_type": "execute_result"
    }
   ],
   "source": [
    "d = {'a':'apple','b':'ball','c':'cat','C':'cat'}\n",
    "d"
   ]
  },
  {
   "cell_type": "code",
   "execution_count": 9,
   "id": "3cb702e5",
   "metadata": {},
   "outputs": [
    {
     "data": {
      "text/plain": [
       "{'a': 'apple', 'b': 'ball', 'c': 'Cat'}"
      ]
     },
     "execution_count": 9,
     "metadata": {},
     "output_type": "execute_result"
    }
   ],
   "source": [
    "d = {'a':'apple','b':'ball','c':'cat','c':'Cat'}\n",
    "d"
   ]
  },
  {
   "cell_type": "code",
   "execution_count": 10,
   "id": "6670d362",
   "metadata": {},
   "outputs": [
    {
     "data": {
      "text/plain": [
       "{'a': 'Aplle', 'b': 'Ball', 'c': 'Cat'}"
      ]
     },
     "execution_count": 10,
     "metadata": {},
     "output_type": "execute_result"
    }
   ],
   "source": [
    "a = {}\n",
    "a['a'] = \"Aplle\"\n",
    "a['b'] = \"Ball\"\n",
    "a['c'] = \"Cat\"\n",
    "a"
   ]
  },
  {
   "cell_type": "code",
   "execution_count": 11,
   "id": "474b64bc",
   "metadata": {},
   "outputs": [
    {
     "name": "stdout",
     "output_type": "stream",
     "text": [
      "Enter n = 2\n",
      "Enter name = Ram\n",
      "Enter phone = 9878778765\n",
      "Enter name = Shyam\n",
      "Enter phone = 9808778765\n"
     ]
    },
    {
     "data": {
      "text/plain": [
       "{'Ram': 9878778765, 'Shyam': 9808778765}"
      ]
     },
     "execution_count": 11,
     "metadata": {},
     "output_type": "execute_result"
    }
   ],
   "source": [
    "d = {}\n",
    "n = int(input(\"Enter n = \"))\n",
    "for i in range(n):\n",
    "    name = input(\"Enter name = \")\n",
    "    phone = int(input(\"Enter phone = \"))\n",
    "    key = name\n",
    "    value = phone\n",
    "    d[key] = value\n",
    "    \n",
    "d"
   ]
  },
  {
   "cell_type": "code",
   "execution_count": 12,
   "id": "27fc2353",
   "metadata": {},
   "outputs": [
    {
     "data": {
      "text/plain": [
       "2"
      ]
     },
     "execution_count": 12,
     "metadata": {},
     "output_type": "execute_result"
    }
   ],
   "source": [
    "d = {'Ram': 9878778765, 'Shyam': 9808778765}\n",
    "len(d)"
   ]
  },
  {
   "cell_type": "code",
   "execution_count": 13,
   "id": "2b927919",
   "metadata": {},
   "outputs": [
    {
     "name": "stdout",
     "output_type": "stream",
     "text": [
      "Ram\n",
      "Shyam\n"
     ]
    }
   ],
   "source": [
    "for i in d:\n",
    "    print(i)"
   ]
  },
  {
   "cell_type": "code",
   "execution_count": 14,
   "id": "096dba55",
   "metadata": {},
   "outputs": [
    {
     "name": "stdout",
     "output_type": "stream",
     "text": [
      "9878778765\n",
      "9808778765\n"
     ]
    }
   ],
   "source": [
    "for i in d.values():\n",
    "    print(i)"
   ]
  },
  {
   "cell_type": "code",
   "execution_count": 15,
   "id": "e587f6f9",
   "metadata": {},
   "outputs": [
    {
     "name": "stdout",
     "output_type": "stream",
     "text": [
      "('Ram', 9878778765)\n",
      "('Shyam', 9808778765)\n"
     ]
    }
   ],
   "source": [
    "for i in d.items():\n",
    "    print(i)"
   ]
  },
  {
   "cell_type": "code",
   "execution_count": 17,
   "id": "cf33a280",
   "metadata": {},
   "outputs": [
    {
     "name": "stdout",
     "output_type": "stream",
     "text": [
      "[('Ram', 9878778765), ('Shyam', 9808778765)]\n"
     ]
    },
    {
     "data": {
      "text/plain": [
       "{'Ram': 9878778765, 'Shyam': 9808778765}"
      ]
     },
     "execution_count": 17,
     "metadata": {},
     "output_type": "execute_result"
    }
   ],
   "source": [
    "l = []\n",
    "for i in d.items():\n",
    "    l.append(i)\n",
    "    \n",
    "print(l)\n",
    "dict(l)"
   ]
  },
  {
   "cell_type": "code",
   "execution_count": 18,
   "id": "4c8e4d1f",
   "metadata": {},
   "outputs": [
    {
     "ename": "TypeError",
     "evalue": "unsupported operand type(s) for +: 'dict' and 'dict'",
     "output_type": "error",
     "traceback": [
      "\u001b[1;31m---------------------------------------------------------------------------\u001b[0m",
      "\u001b[1;31mTypeError\u001b[0m                                 Traceback (most recent call last)",
      "Input \u001b[1;32mIn [18]\u001b[0m, in \u001b[0;36m<cell line: 3>\u001b[1;34m()\u001b[0m\n\u001b[0;32m      1\u001b[0m d \u001b[38;5;241m=\u001b[39m {\u001b[38;5;124m'\u001b[39m\u001b[38;5;124mRam\u001b[39m\u001b[38;5;124m'\u001b[39m: \u001b[38;5;241m9878778765\u001b[39m, \u001b[38;5;124m'\u001b[39m\u001b[38;5;124mShyam\u001b[39m\u001b[38;5;124m'\u001b[39m: \u001b[38;5;241m9808778765\u001b[39m}\n\u001b[0;32m      2\u001b[0m a \u001b[38;5;241m=\u001b[39m {\u001b[38;5;241m1\u001b[39m:\u001b[38;5;241m1\u001b[39m,\u001b[38;5;241m2\u001b[39m:\u001b[38;5;241m4\u001b[39m,\u001b[38;5;241m3\u001b[39m:\u001b[38;5;241m9\u001b[39m,\u001b[38;5;241m4\u001b[39m:\u001b[38;5;241m16\u001b[39m}\n\u001b[1;32m----> 3\u001b[0m c \u001b[38;5;241m=\u001b[39m \u001b[43ma\u001b[49m\u001b[38;5;241;43m+\u001b[39;49m\u001b[43md\u001b[49m\n\u001b[0;32m      4\u001b[0m \u001b[38;5;28mprint\u001b[39m(c)\n",
      "\u001b[1;31mTypeError\u001b[0m: unsupported operand type(s) for +: 'dict' and 'dict'"
     ]
    }
   ],
   "source": [
    "d = {'Ram': 9878778765, 'Shyam': 9808778765}\n",
    "a = {1:1,2:4,3:9,4:16}\n",
    "c = a+d\n",
    "print(c)"
   ]
  },
  {
   "cell_type": "code",
   "execution_count": 19,
   "id": "c817fe4b",
   "metadata": {},
   "outputs": [
    {
     "ename": "TypeError",
     "evalue": "unsupported operand type(s) for *: 'dict' and 'int'",
     "output_type": "error",
     "traceback": [
      "\u001b[1;31m---------------------------------------------------------------------------\u001b[0m",
      "\u001b[1;31mTypeError\u001b[0m                                 Traceback (most recent call last)",
      "Input \u001b[1;32mIn [19]\u001b[0m, in \u001b[0;36m<cell line: 2>\u001b[1;34m()\u001b[0m\n\u001b[0;32m      1\u001b[0m d \u001b[38;5;241m=\u001b[39m {\u001b[38;5;124m'\u001b[39m\u001b[38;5;124mRam\u001b[39m\u001b[38;5;124m'\u001b[39m: \u001b[38;5;241m9878778765\u001b[39m, \u001b[38;5;124m'\u001b[39m\u001b[38;5;124mShyam\u001b[39m\u001b[38;5;124m'\u001b[39m: \u001b[38;5;241m9808778765\u001b[39m}\n\u001b[1;32m----> 2\u001b[0m \u001b[43md\u001b[49m\u001b[38;5;241;43m*\u001b[39;49m\u001b[38;5;241;43m2\u001b[39;49m\n",
      "\u001b[1;31mTypeError\u001b[0m: unsupported operand type(s) for *: 'dict' and 'int'"
     ]
    }
   ],
   "source": [
    "d = {'Ram': 9878778765, 'Shyam': 9808778765}\n",
    "d*2"
   ]
  },
  {
   "cell_type": "code",
   "execution_count": 20,
   "id": "c5da714a",
   "metadata": {},
   "outputs": [
    {
     "data": {
      "text/plain": [
       "{'Ram': 9878778765, 'Shyam': 9808778765, 1: 1, 2: 4, 3: 9, 4: 16}"
      ]
     },
     "execution_count": 20,
     "metadata": {},
     "output_type": "execute_result"
    }
   ],
   "source": [
    "d = {'Ram': 9878778765, 'Shyam': 9808778765}\n",
    "a = {1:1,2:4,3:9,4:16}\n",
    "d.update(a)\n",
    "d"
   ]
  },
  {
   "cell_type": "code",
   "execution_count": 24,
   "id": "c56f38f1",
   "metadata": {},
   "outputs": [
    {
     "data": {
      "text/plain": [
       "{'Shyam': 9808778765, 1: 1, 2: 4, 3: 9, 4: 16}"
      ]
     },
     "execution_count": 24,
     "metadata": {},
     "output_type": "execute_result"
    }
   ],
   "source": [
    "# delete\n",
    "# del pop()\n",
    "a = {'Ram': 9878778765, 'Shyam': 9808778765, 1: 1, 2: 4, 3: 9, 4: 16}\n",
    "del a['Ram']\n",
    "a"
   ]
  },
  {
   "cell_type": "code",
   "execution_count": 27,
   "id": "0fd2888f",
   "metadata": {},
   "outputs": [
    {
     "name": "stdout",
     "output_type": "stream",
     "text": [
      "{'Shyam': 9808778765, 1: 1, 2: 4, 3: 9, 4: 16}\n",
      "9878778765\n"
     ]
    }
   ],
   "source": [
    "a = {'Ram': 9878778765, 'Shyam': 9808778765, 1: 1, 2: 4, 3: 9, 4: 16}\n",
    "b = a.pop('Ram')\n",
    "print(a)\n",
    "print(b)"
   ]
  },
  {
   "cell_type": "code",
   "execution_count": null,
   "id": "8f73a5da",
   "metadata": {},
   "outputs": [],
   "source": []
  },
  {
   "cell_type": "code",
   "execution_count": 28,
   "id": "28cd6157",
   "metadata": {},
   "outputs": [
    {
     "name": "stdout",
     "output_type": "stream",
     "text": [
      "{'Ram': [9878778765, 9870776765], 'Shyam': [9808778765, 9808667654]}\n"
     ]
    }
   ],
   "source": [
    "# list inside dict\n",
    "d = {'Ram': [9878778765,9870776765], 'Shyam': [9808778765,9808667654]}\n",
    "print(d)"
   ]
  },
  {
   "cell_type": "code",
   "execution_count": 29,
   "id": "2146ce23",
   "metadata": {},
   "outputs": [
    {
     "data": {
      "text/plain": [
       "[9878778765, 9870776765]"
      ]
     },
     "execution_count": 29,
     "metadata": {},
     "output_type": "execute_result"
    }
   ],
   "source": [
    "d['Ram']"
   ]
  },
  {
   "cell_type": "code",
   "execution_count": 31,
   "id": "c92c3089",
   "metadata": {},
   "outputs": [
    {
     "data": {
      "text/plain": [
       "9870776765"
      ]
     },
     "execution_count": 31,
     "metadata": {},
     "output_type": "execute_result"
    }
   ],
   "source": [
    "d['Ram'][1]"
   ]
  },
  {
   "cell_type": "code",
   "execution_count": 32,
   "id": "cec85b9d",
   "metadata": {},
   "outputs": [
    {
     "name": "stdout",
     "output_type": "stream",
     "text": [
      "Enter n = 2\n",
      "Enter name = Ram\n",
      "Enter ntc phone = 9867667654\n",
      "Enter ncell phone = 9808778765\n",
      "Enter name = Shyam\n",
      "Enter ntc phone = 9867556543\n",
      "Enter ncell phone = 9808778765\n"
     ]
    },
    {
     "data": {
      "text/plain": [
       "{'Ram': [9867667654, 9808778765], 'Shyam': [9867556543, 9808778765]}"
      ]
     },
     "execution_count": 32,
     "metadata": {},
     "output_type": "execute_result"
    }
   ],
   "source": [
    "d = {}\n",
    "n = int(input(\"Enter n = \"))\n",
    "for i in range(n):\n",
    "    name = input(\"Enter name = \")\n",
    "    ntc_phone = int(input(\"Enter ntc phone = \"))\n",
    "    ncell_phone = int(input(\"Enter ncell phone = \"))\n",
    "    \n",
    "    d[name] = [ntc_phone,ncell_phone]\n",
    "    \n",
    "d"
   ]
  },
  {
   "cell_type": "code",
   "execution_count": null,
   "id": "1d99390f",
   "metadata": {},
   "outputs": [],
   "source": [
    "# d = {'name':[],'age'[],'add':[]}"
   ]
  },
  {
   "cell_type": "code",
   "execution_count": 33,
   "id": "175a61d6",
   "metadata": {},
   "outputs": [
    {
     "name": "stdout",
     "output_type": "stream",
     "text": [
      "Enter n = 2\n",
      "Enter name = Ram\n",
      "Enter age = 89\n",
      "Enter add = Kathmandu\n",
      "Enter name = Shyam\n",
      "Enter age = 45\n",
      "Enter add = Bhaktapur\n"
     ]
    },
    {
     "data": {
      "text/plain": [
       "{'name': ['Ram', 'Shyam'], 'age': [89, 45], 'add': ['Kathmandu', 'Bhaktapur']}"
      ]
     },
     "execution_count": 33,
     "metadata": {},
     "output_type": "execute_result"
    }
   ],
   "source": [
    "d = {'name':[],'age':[],'add':[]}\n",
    "\n",
    "n = int(input(\"Enter n = \"))\n",
    "for i in range(n):\n",
    "    name = input(\"Enter name = \")\n",
    "    age = int(input(\"Enter age = \"))\n",
    "    add = input(\"Enter add = \")\n",
    "    \n",
    "    d['name'].append(name)\n",
    "    d['age'].append(age)\n",
    "    d['add'].append(add)\n",
    "    \n",
    "d"
   ]
  },
  {
   "cell_type": "code",
   "execution_count": 36,
   "id": "64e45d09",
   "metadata": {},
   "outputs": [
    {
     "data": {
      "text/plain": [
       "{'name': ['Ram', 'Shyam'], 'age': [89, 45], 'add': ['Ktm', 'Bhaktapur']}"
      ]
     },
     "execution_count": 36,
     "metadata": {},
     "output_type": "execute_result"
    }
   ],
   "source": [
    "#Update\n",
    "d = {'name': ['Ram', 'Shyam'], 'age': [89, 45], 'add': ['Kathmandu', 'Bhaktapur']}\n",
    "d['add'][0] = 'Ktm'\n",
    "d"
   ]
  },
  {
   "cell_type": "code",
   "execution_count": 37,
   "id": "74dc66bb",
   "metadata": {},
   "outputs": [
    {
     "data": {
      "text/plain": [
       "{'name': ['Shyam'], 'age': [45], 'add': ['Bhaktapur']}"
      ]
     },
     "execution_count": 37,
     "metadata": {},
     "output_type": "execute_result"
    }
   ],
   "source": [
    "#Delete\n",
    "d = {'name': ['Ram', 'Shyam'], 'age': [89, 45], 'add': ['Kathmandu', 'Bhaktapur']}\n",
    "del d['name'][0]\n",
    "del d['age'][0]\n",
    "del d['add'][0]\n",
    "d"
   ]
  },
  {
   "cell_type": "code",
   "execution_count": 38,
   "id": "7f091667",
   "metadata": {},
   "outputs": [
    {
     "data": {
      "text/plain": [
       "{('Ram', 'Sita'): [9867667654, 9808778765], 'Shyam': [9867556543, 9808778765]}"
      ]
     },
     "execution_count": 38,
     "metadata": {},
     "output_type": "execute_result"
    }
   ],
   "source": [
    "a = {('Ram','Sita'): [9867667654, 9808778765], 'Shyam': [9867556543, 9808778765]}\n",
    "a"
   ]
  },
  {
   "cell_type": "code",
   "execution_count": 39,
   "id": "7d8c69e7",
   "metadata": {},
   "outputs": [],
   "source": [
    "# dict inside list\n",
    "# WAP to create dict inside list and perfor CRUD\n",
    "a = [{'name':'Ram','age':45,'add':'Kathmandu'},\n",
    "    {'name':'Shyam','age':75,'add':'Bhaktapur'},\n",
    "    {'name':'Nabin','age':54,'add':'Lalitpur'}]"
   ]
  },
  {
   "cell_type": "code",
   "execution_count": 40,
   "id": "1c11ae42",
   "metadata": {},
   "outputs": [],
   "source": [
    "# nested dict\n",
    "d = {1:{'name':'Ram','age':10,'grade':'A'},\n",
    "    2:{'name':'Shyam','age':11,'grade':'A+'},\n",
    "    3:{'name':'Hari','age':14,'grade':'B'},\n",
    "    4:{'name':'Nabin','age':11,'grade':'C'}}"
   ]
  },
  {
   "cell_type": "code",
   "execution_count": null,
   "id": "118f32a3",
   "metadata": {},
   "outputs": [],
   "source": []
  }
 ],
 "metadata": {
  "kernelspec": {
   "display_name": "Python 3 (ipykernel)",
   "language": "python",
   "name": "python3"
  },
  "language_info": {
   "codemirror_mode": {
    "name": "ipython",
    "version": 3
   },
   "file_extension": ".py",
   "mimetype": "text/x-python",
   "name": "python",
   "nbconvert_exporter": "python",
   "pygments_lexer": "ipython3",
   "version": "3.9.12"
  }
 },
 "nbformat": 4,
 "nbformat_minor": 5
}
