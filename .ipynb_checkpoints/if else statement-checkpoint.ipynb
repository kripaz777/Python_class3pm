{
 "cells": [
  {
   "cell_type": "code",
   "execution_count": 1,
   "id": "b994e625",
   "metadata": {},
   "outputs": [],
   "source": [
    "# if <condition>:\n",
    "#     <operations>\n",
    "# elif <condition>:\n",
    "#     <operation>\n",
    "# ...\n",
    "\n",
    "# else:\n",
    "#     <operation>"
   ]
  },
  {
   "cell_type": "code",
   "execution_count": null,
   "id": "34129e37",
   "metadata": {},
   "outputs": [],
   "source": [
    "> < >= <= == !="
   ]
  },
  {
   "cell_type": "code",
   "execution_count": 2,
   "id": "55480193",
   "metadata": {},
   "outputs": [
    {
     "name": "stdout",
     "output_type": "stream",
     "text": [
      "a is greater\n"
     ]
    }
   ],
   "source": [
    "a = 10\n",
    "if a>5:\n",
    "    print(\"a is greater\")"
   ]
  },
  {
   "cell_type": "code",
   "execution_count": 6,
   "id": "a979a9dc",
   "metadata": {},
   "outputs": [
    {
     "name": "stdout",
     "output_type": "stream",
     "text": [
      "False\n"
     ]
    }
   ],
   "source": [
    "a = 10\n",
    "print(a<5)"
   ]
  },
  {
   "cell_type": "code",
   "execution_count": 13,
   "id": "20417f3f",
   "metadata": {},
   "outputs": [
    {
     "name": "stdout",
     "output_type": "stream",
     "text": [
      "Enter a = 10\n",
      "Enter b = 2\n",
      "10 a is greater\n"
     ]
    }
   ],
   "source": [
    "a = int(input(\"Enter a = \"))\n",
    "b = int(input(\"Enter b = \"))\n",
    "if a>b:\n",
    "    print(a,\"is greater\")\n",
    "elif b>a:\n",
    "    print(b,\" is greater\")\n",
    "else:\n",
    "    print(\" a and b both are equal\")"
   ]
  },
  {
   "cell_type": "code",
   "execution_count": 11,
   "id": "a87bc0dc",
   "metadata": {},
   "outputs": [
    {
     "name": "stdout",
     "output_type": "stream",
     "text": [
      "True\n"
     ]
    }
   ],
   "source": [
    "a = 11\n",
    "b = 10\n",
    "print(a>=b)"
   ]
  },
  {
   "cell_type": "code",
   "execution_count": null,
   "id": "e828c429",
   "metadata": {},
   "outputs": [],
   "source": [
    "# a = int(input(\"Enter a = \"))\n",
    "if a%2 == 0:\n",
    "    print(a,\"is even\")\n",
    "else:\n",
    "    print(a,\"is odd\")"
   ]
  },
  {
   "cell_type": "code",
   "execution_count": null,
   "id": "8a3f3706",
   "metadata": {},
   "outputs": [],
   "source": []
  },
  {
   "cell_type": "code",
   "execution_count": null,
   "id": "6d784479",
   "metadata": {
    "collapsed": true
   },
   "outputs": [],
   "source": []
  },
  {
   "cell_type": "code",
   "execution_count": 1,
   "id": "e4c26ab1",
   "metadata": {},
   "outputs": [
    {
     "name": "stdout",
     "output_type": "stream",
     "text": [
      "Enter physics = 78\n",
      "Enter chemistry = 76\n",
      "Enter math = 79\n",
      "Enter english = 54\n",
      "Enter nepali = 89\n",
      "Total =  376\n",
      "Per =  75.2\n",
      "Grade =  A\n"
     ]
    }
   ],
   "source": [
    "# WAP to enter all marks of subjects of a student, find total and find grade of the total marks\n",
    "physics = int(input(\"Enter physics = \"))\n",
    "chemistry = int(input(\"Enter chemistry = \"))\n",
    "math = int(input(\"Enter math = \"))\n",
    "eng = int(input(\"Enter english = \"))\n",
    "nepali = int(input(\"Enter nepali = \"))\n",
    "\n",
    "total = physics+chemistry+math+eng+nepali\n",
    "per = total/5\n",
    "if total >= 80:\n",
    "    grade = 'A'\n",
    "elif total > 60:\n",
    "    grade = 'B'\n",
    "elif total >= 45:\n",
    "    grade = 'C'\n",
    "else:\n",
    "    grade = 'F'\n",
    "    \n",
    "print('Total = ',total)\n",
    "print('Per = ',per)\n",
    "print('Grade = ',grade)"
   ]
  },
  {
   "cell_type": "code",
   "execution_count": null,
   "id": "5ee6a581",
   "metadata": {},
   "outputs": [],
   "source": [
    "# logical operator\n",
    "# and &  \n",
    "# 1*1 = 1\n",
    "# 1*0 = 0\n",
    "# 0*1 = 0\n",
    "# 0*0 = 0\n",
    "\n",
    "# or |\n",
    "# 1+1 = 2\n",
    "# 1+0 = 1\n",
    "# 0+1 = 1\n",
    "# 0+0 =0"
   ]
  },
  {
   "cell_type": "code",
   "execution_count": 3,
   "id": "5336d7a9",
   "metadata": {},
   "outputs": [
    {
     "name": "stdout",
     "output_type": "stream",
     "text": [
      "False\n"
     ]
    }
   ],
   "source": [
    "print(True and False)"
   ]
  },
  {
   "cell_type": "code",
   "execution_count": 6,
   "id": "ed8605f1",
   "metadata": {},
   "outputs": [
    {
     "name": "stdout",
     "output_type": "stream",
     "text": [
      "True\n"
     ]
    }
   ],
   "source": [
    "print(True or True)"
   ]
  },
  {
   "cell_type": "code",
   "execution_count": 10,
   "id": "56746277",
   "metadata": {},
   "outputs": [
    {
     "name": "stdout",
     "output_type": "stream",
     "text": [
      "Enter a = 10\n",
      "Enter b = 0\n",
      "Enter + - * /  +\n",
      "10\n"
     ]
    }
   ],
   "source": [
    "a = int(input(\"Enter a = \"))\n",
    "b = int(input(\"Enter b = \"))\n",
    "o = input(\"Enter + - * /  \")\n",
    "\n",
    "if o == '+':\n",
    "    print(a+b)\n",
    "elif o == '-':\n",
    "    print(a-b)\n",
    "elif o == '*':\n",
    "    print(a*b)\n",
    "elif o == '/':\n",
    "    print(a/b)\n",
    "else:\n",
    "    print(\"Invalid operator\")"
   ]
  },
  {
   "cell_type": "code",
   "execution_count": null,
   "id": "13c72a04",
   "metadata": {},
   "outputs": [],
   "source": [
    "a = int(input(\"Enter a = \"))\n",
    "b = int(input(\"Enter b = \"))\n",
    "o = input(\"Enter + - * /  \")\n",
    "\n",
    "if o == '+':\n",
    "    print(a+b)\n",
    "elif o == '-':\n",
    "    print(a-b)\n",
    "elif o == '*':\n",
    "    print(a*b)\n",
    "elif o == '/' and b != 0:\n",
    "    print(a/b)\n",
    "elif o == '/' and b == 0:\n",
    "    print(\"The value of b can not be zero.\")\n",
    "else:\n",
    "    print(\"Invalid operator\")"
   ]
  },
  {
   "cell_type": "code",
   "execution_count": 1,
   "id": "c0400781",
   "metadata": {},
   "outputs": [
    {
     "name": "stdout",
     "output_type": "stream",
     "text": [
      "Enter physics = 78\n",
      "Enter chemistry = 76\n",
      "Enter math = 79\n",
      "Enter english = 54\n",
      "Enter nepali = 89\n",
      "Total =  376\n",
      "Per =  75.2\n",
      "Grade =  A\n"
     ]
    }
   ],
   "source": [
    "# WAP to enter all marks of subjects of a student, find total and find grade of the total marks\n",
    "physics = int(input(\"Enter physics = \"))\n",
    "chemistry = int(input(\"Enter chemistry = \"))\n",
    "math = int(input(\"Enter math = \"))\n",
    "eng = int(input(\"Enter english = \"))\n",
    "nepali = int(input(\"Enter nepali = \"))\n",
    "\n",
    "total = physics+chemistry+math+eng+nepali\n",
    "per = total/5\n",
    "if total >= 80:\n",
    "    grade = 'A'\n",
    "elif total > 60:\n",
    "    grade = 'B'\n",
    "elif total >= 45:\n",
    "    grade = 'C'\n",
    "else:\n",
    "    grade = 'F'\n",
    "    \n",
    "print('Total = ',total)\n",
    "print('Per = ',per)\n",
    "print('Grade = ',grade)"
   ]
  },
  {
   "cell_type": "code",
   "execution_count": null,
   "id": "0c5aad30",
   "metadata": {},
   "outputs": [],
   "source": [
    "# WAP to enter all marks of subjects of a student, find total and find grade of the total marks\n",
    "physics = int(input(\"Enter physics = \"))\n",
    "chemistry = int(input(\"Enter chemistry = \"))\n",
    "math = int(input(\"Enter math = \"))\n",
    "eng = int(input(\"Enter english = \"))\n",
    "nepali = int(input(\"Enter nepali = \"))\n",
    "\n",
    "total = physics+chemistry+math+eng+nepali\n",
    "per = total/5\n",
    "if total >80 or total =80:\n",
    "    grade = 'A'\n",
    "elif total > 60 or total = 60:\n",
    "    grade = 'B'\n",
    "elif total >45 or total:\n",
    "    grade = 'C'\n",
    "else:\n",
    "    grade = 'F'\n",
    "    \n",
    "print('Total = ',total)\n",
    "print('Per = ',per)\n",
    "print('Grade = ',grade)"
   ]
  },
  {
   "cell_type": "code",
   "execution_count": null,
   "id": "b5e42656",
   "metadata": {},
   "outputs": [],
   "source": [
    "# # Nested if/else\n",
    "# if <condition>:\n",
    "#     if <condition>:\n",
    "#         <operation>\n",
    "#     elif <condition>:\n",
    "#         <operation>\n",
    "#     else:\n",
    "#         <operation>\n",
    "# else:\n",
    "#     <operation>"
   ]
  },
  {
   "cell_type": "code",
   "execution_count": null,
   "id": "53addb2b",
   "metadata": {},
   "outputs": [],
   "source": [
    "x = int(input(\"Enter x = \"))\n",
    "if x>0:\n",
    "    if x%2==0:\n",
    "        print(x,\"is positive and even.\")\n",
    "    else:\n",
    "        print(x,\"is positive but odd.\")\n",
    "else:\n",
    "    print(x,\"i\")"
   ]
  }
 ],
 "metadata": {
  "kernelspec": {
   "display_name": "Python 3 (ipykernel)",
   "language": "python",
   "name": "python3"
  },
  "language_info": {
   "codemirror_mode": {
    "name": "ipython",
    "version": 3
   },
   "file_extension": ".py",
   "mimetype": "text/x-python",
   "name": "python",
   "nbconvert_exporter": "python",
   "pygments_lexer": "ipython3",
   "version": "3.9.12"
  }
 },
 "nbformat": 4,
 "nbformat_minor": 5
}
