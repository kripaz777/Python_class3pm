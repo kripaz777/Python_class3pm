{
 "cells": [
  {
   "cell_type": "code",
   "execution_count": 1,
   "id": "2ad76ef0",
   "metadata": {},
   "outputs": [
    {
     "name": "stdout",
     "output_type": "stream",
     "text": [
      "Requirement already satisfied: mysql-connector in c:\\users\\aayush\\anaconda3\\lib\\site-packages (2.2.9)\n"
     ]
    }
   ],
   "source": [
    "!pip install mysql-connector"
   ]
  },
  {
   "cell_type": "code",
   "execution_count": 3,
   "id": "6d3cbc1f",
   "metadata": {},
   "outputs": [],
   "source": [
    "import mysql.connector\n",
    "#importing database\n",
    "database = mysql.connector.connect(\n",
    "host=\"localhost\",\n",
    "user=\"root\",\n",
    "password=\"\"\n",
    ")\n",
    "db = database.cursor()\n",
    "\n",
    "db.execute(\"CREATE DATABASE pythons1\")"
   ]
  },
  {
   "cell_type": "code",
   "execution_count": 3,
   "id": "eb09f6d3",
   "metadata": {},
   "outputs": [],
   "source": [
    "import mysql.connector\n",
    "#importing database\n",
    "database = mysql.connector.connect(\n",
    "host=\"localhost\",\n",
    "user=\"root\",\n",
    "password=\"\",\n",
    "database = \"python3pm\")\n",
    "db = database.cursor()"
   ]
  },
  {
   "cell_type": "code",
   "execution_count": 10,
   "id": "dc53add8",
   "metadata": {},
   "outputs": [
    {
     "name": "stdout",
     "output_type": "stream",
     "text": [
      "(1, 'Rama', 89, 98, 85, 67, 89, 420, 82.5, 'A')\n",
      "(3, 'Nabin', 82, 84, 85, 98, 89, 430, 88.5, 'A')\n",
      "(4, 'Shiva', 49, 57, 25, 98, 89, 400, 70.0, 'A')\n",
      "(10, 'Sameer', 89, 67, 80, 98, 89, 412, 82.5, 'A')\n"
     ]
    }
   ],
   "source": [
    "sql = \"SELECT * FROM student\"\n",
    "db.execute(sql)\n",
    "result =db.fetchall()\n",
    "for i in result:\n",
    "    print(i)"
   ]
  },
  {
   "cell_type": "code",
   "execution_count": null,
   "id": "e77832a8",
   "metadata": {},
   "outputs": [],
   "source": [
    "sql = \"SELECT * FROM student WHERE per > 70\"\n",
    "db.execute(sql)\n",
    "result =db.fetchall()\n",
    "for i in result:\n",
    "    print(i)"
   ]
  },
  {
   "cell_type": "code",
   "execution_count": 8,
   "id": "756e1b7f",
   "metadata": {},
   "outputs": [
    {
     "name": "stdout",
     "output_type": "stream",
     "text": [
      "Enter name = Gauri\n",
      "Enter physics = 98\n",
      "Enter chemistry = 78\n",
      "Enter math = 90\n",
      "Enter english = 87\n",
      "Enter nepali = 78\n",
      "INSERT INTO student(name,physics,chemistry,math,english,nepali,total,per,grade) \n",
      "VALUES('Gauri',98,78,90,87,78,431,86.2,'A')\n"
     ]
    }
   ],
   "source": [
    "name = input(\"Enter name = \")\n",
    "physics = int(input(\"Enter physics = \"))\n",
    "chemistry = int(input(\"Enter chemistry = \"))\n",
    "math = int(input(\"Enter math = \"))\n",
    "english = int(input(\"Enter english = \"))\n",
    "nepali = int(input(\"Enter nepali = \"))\n",
    "\n",
    "total = physics+chemistry+math+english+nepali\n",
    "per = total/5\n",
    "if per >= 80:\n",
    "    grade = 'A'\n",
    "elif per>= 60:\n",
    "    grade = 'B'\n",
    "elif per>= 45:\n",
    "    grade = 'C'\n",
    "else:\n",
    "    grade = 'F'\n",
    "\n",
    "sql = f'''INSERT INTO student(name,physics,chemistry,math,english,nepali,total,per,grade) \n",
    "VALUES('{name}',{physics},{chemistry},{math},{english},{nepali},{total},{per},'{grade}')'''\n",
    "print(sql)"
   ]
  },
  {
   "cell_type": "code",
   "execution_count": 7,
   "id": "d91e1d8a",
   "metadata": {},
   "outputs": [],
   "source": [
    "db.execute(sql)\n",
    "database.commit()"
   ]
  },
  {
   "cell_type": "code",
   "execution_count": 9,
   "id": "524dc39c",
   "metadata": {},
   "outputs": [],
   "source": [
    "# update\n",
    "# UPDATE student SET name = 'Utsab' WHERE name = 'Ram'\n",
    "initial = input(\"Enter initial name = \")\n",
    "final = input(\"Enter final name = \")\n",
    "sql = f\"UPDATE student SET name = 'Utsab' WHERE name = 'Ram'\"\n",
    "db.execute(\"UPDATE student SET name = '{final}' WHERE name = '{initial}'\")"
   ]
  },
  {
   "cell_type": "code",
   "execution_count": 10,
   "id": "1d88e6b7",
   "metadata": {},
   "outputs": [
    {
     "name": "stdout",
     "output_type": "stream",
     "text": [
      "Entre name = Ram\n"
     ]
    }
   ],
   "source": [
    "# Delete\n",
    "# DELETE FROM student WHERE name = 'Ram'\n",
    "name = input(\"Entre name = \")\n",
    "sql = \"DELETE FROM student WHERE name = '{name}'\"\n",
    "db.execute(sql)\n",
    "database.commit()"
   ]
  },
  {
   "cell_type": "code",
   "execution_count": null,
   "id": "b7e260f9",
   "metadata": {},
   "outputs": [],
   "source": []
  }
 ],
 "metadata": {
  "kernelspec": {
   "display_name": "Python 3 (ipykernel)",
   "language": "python",
   "name": "python3"
  },
  "language_info": {
   "codemirror_mode": {
    "name": "ipython",
    "version": 3
   },
   "file_extension": ".py",
   "mimetype": "text/x-python",
   "name": "python",
   "nbconvert_exporter": "python",
   "pygments_lexer": "ipython3",
   "version": "3.9.12"
  }
 },
 "nbformat": 4,
 "nbformat_minor": 5
}
