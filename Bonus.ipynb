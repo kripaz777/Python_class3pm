{
 "cells": [
  {
   "cell_type": "code",
   "execution_count": 1,
   "id": "2b7c36c6",
   "metadata": {},
   "outputs": [],
   "source": [
    "# Comprehensions: List, Dictionary\n"
   ]
  },
  {
   "cell_type": "code",
   "execution_count": 3,
   "id": "02f96a7b",
   "metadata": {},
   "outputs": [
    {
     "name": "stdout",
     "output_type": "stream",
     "text": [
      "Enter value =5\n",
      "Enter value =234\n",
      "Enter value =345\n",
      "Enter value =345\n",
      "Enter value =576\n"
     ]
    },
    {
     "data": {
      "text/plain": [
       "[5, 234, 345, 345, 576]"
      ]
     },
     "execution_count": 3,
     "metadata": {},
     "output_type": "execute_result"
    }
   ],
   "source": [
    "a = [int(input(\"Enter value =\")) for i in range(5)]\n",
    "a"
   ]
  },
  {
   "cell_type": "code",
   "execution_count": 5,
   "id": "c1267aef",
   "metadata": {},
   "outputs": [
    {
     "data": {
      "text/plain": [
       "[6, 76]"
      ]
     },
     "execution_count": 5,
     "metadata": {},
     "output_type": "execute_result"
    }
   ],
   "source": [
    "l = [23,5,6,65,65,76]\n",
    "a = [i for i in l if i%2 ==0]\n",
    "a"
   ]
  },
  {
   "cell_type": "code",
   "execution_count": 7,
   "id": "4ca1a742",
   "metadata": {},
   "outputs": [
    {
     "data": {
      "text/plain": [
       "['Apple', 'Cat']"
      ]
     },
     "execution_count": 7,
     "metadata": {},
     "output_type": "execute_result"
    }
   ],
   "source": [
    "l = [\"Apple\",'ball',\"Cat\",\"dog\"]\n",
    "a = [i for i in l if i[0].isupper()]\n",
    "a"
   ]
  },
  {
   "cell_type": "code",
   "execution_count": 8,
   "id": "b05026a6",
   "metadata": {},
   "outputs": [
    {
     "data": {
      "text/plain": [
       "{1: 1, 2: 4, 3: 9, 4: 16}"
      ]
     },
     "execution_count": 8,
     "metadata": {},
     "output_type": "execute_result"
    }
   ],
   "source": [
    "# dict\n",
    "d = {i:i**2 for i in range(1,5)}\n",
    "d"
   ]
  },
  {
   "cell_type": "code",
   "execution_count": 13,
   "id": "532a0ea9",
   "metadata": {},
   "outputs": [
    {
     "data": {
      "text/plain": [
       "dict_values(['APPLE', 'BALL', 'CAT', 'DOG'])"
      ]
     },
     "execution_count": 13,
     "metadata": {},
     "output_type": "execute_result"
    }
   ],
   "source": [
    "l = [\"apple\",\"ball\",\"cat\",\"dog\"]\n",
    "d = {i:i.upper() for i in l}\n",
    "d.values()"
   ]
  },
  {
   "cell_type": "code",
   "execution_count": 14,
   "id": "282c3a8a",
   "metadata": {},
   "outputs": [],
   "source": [
    "# Date & Time"
   ]
  },
  {
   "cell_type": "code",
   "execution_count": 15,
   "id": "bf7d04d8",
   "metadata": {},
   "outputs": [
    {
     "name": "stdout",
     "output_type": "stream",
     "text": [
      "2022-09-21 15:32:04.879535\n"
     ]
    }
   ],
   "source": [
    "import datetime\n",
    "x = datetime.datetime.now()\n",
    "\n",
    "print(x)"
   ]
  },
  {
   "cell_type": "code",
   "execution_count": 18,
   "id": "04afface",
   "metadata": {},
   "outputs": [
    {
     "name": "stdout",
     "output_type": "stream",
     "text": [
      "0:00:00\n",
      "499500\n"
     ]
    }
   ],
   "source": [
    "import datetime\n",
    "x = datetime.datetime.now()\n",
    "s = 0\n",
    "for i in range(1,1000):\n",
    "    s = s+i\n",
    "y = datetime.datetime.now()\n",
    "print(y-x)\n",
    "print(s)"
   ]
  },
  {
   "cell_type": "code",
   "execution_count": 19,
   "id": "9c314e81",
   "metadata": {},
   "outputs": [
    {
     "name": "stdout",
     "output_type": "stream",
     "text": [
      "Enter z = 10\n",
      "0:00:15.412298\n",
      "499500\n"
     ]
    }
   ],
   "source": [
    "import datetime\n",
    "x = datetime.datetime.now()\n",
    "z = input(\"Enter z = \")\n",
    "y = datetime.datetime.now()\n",
    "print(y-x)\n",
    "print(s)"
   ]
  },
  {
   "cell_type": "code",
   "execution_count": 26,
   "id": "e83a03a3",
   "metadata": {},
   "outputs": [
    {
     "name": "stdout",
     "output_type": "stream",
     "text": [
      "Fri Jun  1 00:00:00 2018\n"
     ]
    }
   ],
   "source": [
    "import datetime\n",
    "\n",
    "x = datetime.datetime(2018, 6, 1)\n",
    "\n",
    "print(x.strftime(\"%c\"))"
   ]
  },
  {
   "cell_type": "code",
   "execution_count": 27,
   "id": "568e6c5b",
   "metadata": {},
   "outputs": [
    {
     "name": "stdout",
     "output_type": "stream",
     "text": [
      "Wed Sep 21 15:41:35 2022\n"
     ]
    }
   ],
   "source": [
    "import datetime\n",
    "\n",
    "x = datetime.datetime.now()\n",
    "\n",
    "print(x.strftime(\"%c\"))"
   ]
  },
  {
   "cell_type": "code",
   "execution_count": 29,
   "id": "f3a24a38",
   "metadata": {},
   "outputs": [
    {
     "data": {
      "text/plain": [
       "['.git',\n",
       " '.ipynb_checkpoints',\n",
       " 'Bonus.ipynb',\n",
       " 'clean_data.csv',\n",
       " 'clean_data1.csv',\n",
       " 'data.csv',\n",
       " 'data1.csv',\n",
       " 'dictionary.ipynb',\n",
       " 'Exception han.ipynb',\n",
       " 'files.ipynb',\n",
       " 'function.ipynb',\n",
       " 'if else statement.ipynb',\n",
       " 'inheritance.ipynb',\n",
       " 'list.ipynb',\n",
       " 'loop.ipynb',\n",
       " 'New Text Document.txt',\n",
       " 'newdata.csv',\n",
       " 'newdata.txt',\n",
       " 'oop.ipynb',\n",
       " 'pandas.ipynb',\n",
       " 'set.ipynb',\n",
       " 'string.ipynb',\n",
       " 'tuple.ipynb',\n",
       " 'Untitled.ipynb',\n",
       " 'Untitled1.ipynb',\n",
       " 'Untitled2.ipynb',\n",
       " 'Untitled3.ipynb']"
      ]
     },
     "execution_count": 29,
     "metadata": {},
     "output_type": "execute_result"
    }
   ],
   "source": [
    "import os\n",
    "os.listdir()"
   ]
  },
  {
   "cell_type": "code",
   "execution_count": 30,
   "id": "9667dcdc",
   "metadata": {},
   "outputs": [],
   "source": [
    "os.mkdir('newFolder')"
   ]
  },
  {
   "cell_type": "code",
   "execution_count": 31,
   "id": "eae72b24",
   "metadata": {},
   "outputs": [
    {
     "data": {
      "text/plain": [
       "['.git',\n",
       " '.ipynb_checkpoints',\n",
       " 'Bonus.ipynb',\n",
       " 'clean_data.csv',\n",
       " 'clean_data1.csv',\n",
       " 'data.csv',\n",
       " 'data1.csv',\n",
       " 'dictionary.ipynb',\n",
       " 'Exception han.ipynb',\n",
       " 'files.ipynb',\n",
       " 'function.ipynb',\n",
       " 'if else statement.ipynb',\n",
       " 'inheritance.ipynb',\n",
       " 'list.ipynb',\n",
       " 'loop.ipynb',\n",
       " 'New Text Document.txt',\n",
       " 'newdata.csv',\n",
       " 'newdata.txt',\n",
       " 'newFolder',\n",
       " 'oop.ipynb',\n",
       " 'pandas.ipynb',\n",
       " 'set.ipynb',\n",
       " 'string.ipynb',\n",
       " 'tuple.ipynb',\n",
       " 'Untitled.ipynb',\n",
       " 'Untitled1.ipynb',\n",
       " 'Untitled2.ipynb',\n",
       " 'Untitled3.ipynb']"
      ]
     },
     "execution_count": 31,
     "metadata": {},
     "output_type": "execute_result"
    }
   ],
   "source": [
    "os.listdir()"
   ]
  },
  {
   "cell_type": "raw",
   "id": "7dbe3300",
   "metadata": {},
   "source": [
    "os.chdir('newFolder/')\n",
    "os.listdir()\n"
   ]
  },
  {
   "cell_type": "code",
   "execution_count": 37,
   "id": "f682039e",
   "metadata": {},
   "outputs": [],
   "source": [
    "os.rename('newFolder/','new')"
   ]
  },
  {
   "cell_type": "code",
   "execution_count": 40,
   "id": "f57b860c",
   "metadata": {},
   "outputs": [],
   "source": [
    "os.remove('newdata.txt')"
   ]
  },
  {
   "cell_type": "code",
   "execution_count": 41,
   "id": "8dabb1e5",
   "metadata": {},
   "outputs": [],
   "source": [
    "os.rmdir('new')\n"
   ]
  },
  {
   "cell_type": "code",
   "execution_count": 43,
   "id": "31947225",
   "metadata": {},
   "outputs": [
    {
     "data": {
      "text/html": [
       "<div>\n",
       "<style scoped>\n",
       "    .dataframe tbody tr th:only-of-type {\n",
       "        vertical-align: middle;\n",
       "    }\n",
       "\n",
       "    .dataframe tbody tr th {\n",
       "        vertical-align: top;\n",
       "    }\n",
       "\n",
       "    .dataframe thead th {\n",
       "        text-align: right;\n",
       "    }\n",
       "</style>\n",
       "<table border=\"1\" class=\"dataframe\">\n",
       "  <thead>\n",
       "    <tr style=\"text-align: right;\">\n",
       "      <th></th>\n",
       "      <th>name</th>\n",
       "      <th>age</th>\n",
       "      <th>add</th>\n",
       "    </tr>\n",
       "  </thead>\n",
       "  <tbody>\n",
       "    <tr>\n",
       "      <th>0</th>\n",
       "      <td>Ram</td>\n",
       "      <td>34</td>\n",
       "      <td>Kathmandu</td>\n",
       "    </tr>\n",
       "    <tr>\n",
       "      <th>1</th>\n",
       "      <td>Shyam</td>\n",
       "      <td>56</td>\n",
       "      <td>Bhaktapur</td>\n",
       "    </tr>\n",
       "    <tr>\n",
       "      <th>2</th>\n",
       "      <td>Hari</td>\n",
       "      <td>78</td>\n",
       "      <td>lalitpur</td>\n",
       "    </tr>\n",
       "  </tbody>\n",
       "</table>\n",
       "</div>"
      ],
      "text/plain": [
       "    name  age        add\n",
       "0    Ram   34  Kathmandu\n",
       "1  Shyam   56  Bhaktapur\n",
       "2   Hari   78   lalitpur"
      ]
     },
     "execution_count": 43,
     "metadata": {},
     "output_type": "execute_result"
    }
   ],
   "source": [
    "import pandas as pd\n",
    "data = {'name':['Ram','Shyam','Hari'],\n",
    "       'age':[34,56,78],\n",
    "       'add':['Kathmandu','Bhaktapur','lalitpur']}\n",
    "df = pd.DataFrame(data)\n",
    "df.to_json('clean_data.json')\n",
    "df"
   ]
  },
  {
   "cell_type": "code",
   "execution_count": 44,
   "id": "34d1908c",
   "metadata": {
    "scrolled": true
   },
   "outputs": [
    {
     "data": {
      "image/png": "[encoded data removed]",
      "text/plain": [
       "<Figure size 432x288 with 1 Axes>"
      ]
     },
     "metadata": {
      "needs_background": "light"
     },
     "output_type": "display_data"
    }
   ],
   "source": [
    "from matplotlib import pyplot as plt\n",
    "\n",
    "#Plotting to our canvas\n",
    "\n",
    "plt.plot([1,2,3],[4,5,1])\n",
    "\n",
    "#Showing what we plotted\n",
    "\n",
    "plt.show()"
   ]
  },
  {
   "cell_type": "code",
   "execution_count": 45,
   "id": "9b4637a2",
   "metadata": {},
   "outputs": [
    {
     "data": {
      "image/png": "[encoded data removed]",
      "text/plain": [
       "<Figure size 432x288 with 1 Axes>"
      ]
     },
     "metadata": {
      "needs_background": "light"
     },
     "output_type": "display_data"
    }
   ],
   "source": [
    "from matplotlib import pyplot as plt\n",
    "\n",
    "x = [5,2,7]\n",
    "\n",
    "y = [2,16,4]\n",
    "\n",
    "plt.plot(x,y)\n",
    "\n",
    "plt.title('Info')\n",
    "\n",
    "plt.ylabel('Y axis')\n",
    "\n",
    "plt.xlabel('X axis')\n",
    "\n",
    "plt.show()"
   ]
  },
  {
   "cell_type": "code",
   "execution_count": 50,
   "id": "5bfe63a9",
   "metadata": {},
   "outputs": [
    {
     "data": {
      "image/png": "[encoded data removed]",
      "text/plain": [
       "<Figure size 432x288 with 1 Axes>"
      ]
     },
     "metadata": {
      "needs_background": "light"
     },
     "output_type": "display_data"
    }
   ],
   "source": [
    "from matplotlib import pyplot as plt\n",
    "\n",
    "x = [i for i in range(1,11)]\n",
    "\n",
    "y = [12,16,6,3,4,23,6,7,2,7]\n",
    "\n",
    "y2 = [6,15,7,6,7,8,3,9,3,4]\n",
    "\n",
    "plt.plot(x,y,'g',label='NMB', linewidth=3)\n",
    "plt.plot(x,y2,'r',label='NABIL',linewidth=3)\n",
    "\n",
    "plt.title('Epic Info')\n",
    "\n",
    "plt.ylabel('Stock value')\n",
    "\n",
    "plt.xlabel('No of days')\n",
    "\n",
    "plt.legend()\n",
    "\n",
    "plt.grid(True,color='k')\n",
    "\n",
    "plt.show()"
   ]
  },
  {
   "cell_type": "code",
   "execution_count": 53,
   "id": "aac2ca48",
   "metadata": {},
   "outputs": [
    {
     "data": {
      "image/png": "[encoded data removed]",
      "text/plain": [
       "<Figure size 432x288 with 1 Axes>"
      ]
     },
     "metadata": {
      "needs_background": "light"
     },
     "output_type": "display_data"
    }
   ],
   "source": [
    "import matplotlib.pyplot as plt\n",
    "\n",
    "population_age =[22,55,62,45,21,22,34,42,42,4,2,102,95,85,55,110,120,70,65,55,111,115,80,75,65,54,44,43,42,48]\n",
    "\n",
    "bins = [0,10,20,30,40,50,60,70,80,90,100,110,120]\n",
    "\n",
    "plt.hist(population_age, bins, histtype='bar', rwidth=0.9)\n",
    "\n",
    "plt.xlabel('age groups')\n",
    "\n",
    "plt.ylabel('Number of people')\n",
    "\n",
    "plt.title('Histogram')\n",
    "\n",
    "plt.show()"
   ]
  },
  {
   "cell_type": "code",
   "execution_count": 54,
   "id": "d211e2f1",
   "metadata": {},
   "outputs": [
    {
     "data": {
      "image/png": "[encoded data removed]",
      "text/plain": [
       "<Figure size 432x288 with 1 Axes>"
      ]
     },
     "metadata": {
      "needs_background": "light"
     },
     "output_type": "display_data"
    }
   ],
   "source": [
    "import matplotlib.pyplot as plt\n",
    "\n",
    "x = [1,1.5,2,2.5,3,3.5,3.6]\n",
    "\n",
    "y = [7.5,8,8.5,9,9.5,10,10.5]\n",
    "\n",
    "x1=[8,8.5,9,9.5,10,10.5,11]\n",
    "\n",
    "y1=[3,3.5,3.7,4,4.5,5,5.2]\n",
    "\n",
    "plt.scatter(x,y, label='high income low saving',color='r')\n",
    "\n",
    "plt.scatter(x1,y1,label='low income high savings',color='b')\n",
    "\n",
    "plt.xlabel('saving*100')\n",
    "\n",
    "plt.ylabel('income*1000')\n",
    "\n",
    "plt.title('Scatter Plot')\n",
    "\n",
    "plt.legend()\n",
    "\n",
    "plt.show()"
   ]
  },
  {
   "cell_type": "code",
   "execution_count": null,
   "id": "0ced0254",
   "metadata": {},
   "outputs": [],
   "source": []
  }
 ],
 "metadata": {
  "kernelspec": {
   "display_name": "Python 3 (ipykernel)",
   "language": "python",
   "name": "python3"
  },
  "language_info": {
   "codemirror_mode": {
    "name": "ipython",
    "version": 3
   },
   "file_extension": ".py",
   "mimetype": "text/x-python",
   "name": "python",
   "nbconvert_exporter": "python",
   "pygments_lexer": "ipython3",
   "version": "3.9.12"
  }
 },
 "nbformat": 4,
 "nbformat_minor": 5
}
