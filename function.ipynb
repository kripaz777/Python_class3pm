{
 "cells": [
  {
   "cell_type": "code",
   "execution_count": 1,
   "id": "e9ab6653",
   "metadata": {},
   "outputs": [],
   "source": [
    "# Pre defined\n",
    "# user defined"
   ]
  },
  {
   "cell_type": "code",
   "execution_count": 2,
   "id": "8de55003",
   "metadata": {},
   "outputs": [],
   "source": [
    "# pre defined\n",
    "# print() input() int() float() str()"
   ]
  },
  {
   "cell_type": "code",
   "execution_count": 3,
   "id": "1255db47",
   "metadata": {},
   "outputs": [],
   "source": [
    "# def <function_name>():\n",
    "#     <operations>\n",
    "    \n",
    "# <function_name>()"
   ]
  },
  {
   "cell_type": "code",
   "execution_count": 4,
   "id": "671ec9ae",
   "metadata": {},
   "outputs": [
    {
     "name": "stdout",
     "output_type": "stream",
     "text": [
      "Hello World\n"
     ]
    }
   ],
   "source": [
    "def hello():\n",
    "    print(\"Hello World\")\n",
    "    \n",
    "hello()"
   ]
  },
  {
   "cell_type": "code",
   "execution_count": 6,
   "id": "d91ea74b",
   "metadata": {},
   "outputs": [
    {
     "name": "stdout",
     "output_type": "stream",
     "text": [
      "20\n"
     ]
    }
   ],
   "source": [
    "def area():\n",
    "    l = 10         #local variable\n",
    "    b = 2          #local variable\n",
    "    a = l*b\n",
    "    print(a)\n",
    "\n",
    "area()"
   ]
  },
  {
   "cell_type": "code",
   "execution_count": 7,
   "id": "28f19e76",
   "metadata": {},
   "outputs": [
    {
     "name": "stdout",
     "output_type": "stream",
     "text": [
      "Enter l = 10\n",
      "Enter b = 2\n",
      "20\n"
     ]
    }
   ],
   "source": [
    "def area():\n",
    "    l = int(input(\"Enter l = \"))  #local variable\n",
    "    b = int(input(\"Enter b = \"))  #local variable\n",
    "    a = l*b\n",
    "    print(a)\n",
    "\n",
    "area()"
   ]
  },
  {
   "cell_type": "code",
   "execution_count": null,
   "id": "3366837a",
   "metadata": {},
   "outputs": [],
   "source": [
    "l = 10         #global variable\n",
    "b = 2          #global variable\n",
    "def area():\n",
    "    a = l*b\n",
    "    print(a)\n",
    "\n",
    "area()"
   ]
  },
  {
   "cell_type": "code",
   "execution_count": 1,
   "id": "4ee2858f",
   "metadata": {},
   "outputs": [
    {
     "name": "stdout",
     "output_type": "stream",
     "text": [
      "20\n",
      "10 2\n"
     ]
    }
   ],
   "source": [
    "def area():\n",
    "    global l,b\n",
    "    l = 10         \n",
    "    b = 2         \n",
    "    a = l*b\n",
    "    print(a)\n",
    "    \n",
    "\n",
    "area()\n",
    "print(l,b)"
   ]
  },
  {
   "cell_type": "code",
   "execution_count": null,
   "id": "edf17d96",
   "metadata": {},
   "outputs": [],
   "source": [
    "# function without argument and non return type\n",
    "# function with argument and non return type\n",
    "# function without argument and return type\n",
    "# function with argument and return type"
   ]
  },
  {
   "cell_type": "code",
   "execution_count": null,
   "id": "a25dde53",
   "metadata": {},
   "outputs": [],
   "source": [
    "# function without argument and non return type\n",
    "def area():\n",
    "    global l,b\n",
    "    l = 10         \n",
    "    b = 2         \n",
    "    a = l*b\n",
    "    print(a)\n",
    "    \n",
    "\n",
    "area()\n",
    "print(l,b)"
   ]
  },
  {
   "cell_type": "code",
   "execution_count": null,
   "id": "9ffdc33a",
   "metadata": {},
   "outputs": [],
   "source": [
    "#Argument\n",
    "# function with argument and non return type\n",
    "def area(l,b):         #Parameter\n",
    "    a = l*b\n",
    "    print(a)\n",
    "\n",
    "l = int(input(\"Enter l = \"))  \n",
    "b = int(input(\"Enter b = \"))  \n",
    "area(l,b)               #Argument"
   ]
  },
  {
   "cell_type": "code",
   "execution_count": null,
   "id": "3602851b",
   "metadata": {},
   "outputs": [],
   "source": [
    "#Argument\n",
    "# function with argument and non return type\n",
    "def area(x,y):         #Parameter\n",
    "    a = x*y\n",
    "    print(a)\n",
    "\n",
    "l = int(input(\"Enter l = \"))  \n",
    "b = int(input(\"Enter b = \"))  \n",
    "area(l,b)               #Argument"
   ]
  },
  {
   "cell_type": "code",
   "execution_count": null,
   "id": "35b34aa1",
   "metadata": {},
   "outputs": [],
   "source": [
    "#Argument\n",
    "# function with argument and non return type\n",
    "def area(x,y):         #Parameter\n",
    "    a = x*y\n",
    "    print(a)\n",
    "    \n",
    "def volume(x,y,z):\n",
    "    v = x*y*z\n",
    "    print(v)\n",
    "    \n",
    "l = int(input(\"Enter l = \"))  \n",
    "b = int(input(\"Enter b = \"))  \n",
    "h = int(input(\"Enter h = \")) \n",
    "area(l,b)               #Argument\n",
    "volume(l,b,h)"
   ]
  },
  {
   "cell_type": "code",
   "execution_count": 4,
   "id": "b39b8542",
   "metadata": {},
   "outputs": [
    {
     "name": "stdout",
     "output_type": "stream",
     "text": [
      "C\n",
      "C++\n",
      "Java\n",
      "Python\n"
     ]
    }
   ],
   "source": [
    "def language(lan = \"Python\"):\n",
    "    print(lan)\n",
    "    \n",
    "language(\"C\")\n",
    "language(\"C++\")\n",
    "language(\"Java\")\n",
    "language()"
   ]
  },
  {
   "cell_type": "code",
   "execution_count": 6,
   "id": "8acdd977",
   "metadata": {},
   "outputs": [
    {
     "name": "stdout",
     "output_type": "stream",
     "text": [
      "Hello World\n"
     ]
    }
   ],
   "source": [
    "# Retuen type function\n",
    "def hello():\n",
    "    return \"Hello World\"\n",
    "\n",
    "print(hello())"
   ]
  },
  {
   "cell_type": "code",
   "execution_count": 7,
   "id": "3018a8d2",
   "metadata": {},
   "outputs": [
    {
     "name": "stdout",
     "output_type": "stream",
     "text": [
      "Hello World\n"
     ]
    }
   ],
   "source": [
    "# Retuen type function\n",
    "def hello():\n",
    "    return \"Hello World\"\n",
    "\n",
    "x = hello()\n",
    "print(x)"
   ]
  },
  {
   "cell_type": "code",
   "execution_count": 8,
   "id": "69587720",
   "metadata": {},
   "outputs": [
    {
     "name": "stdout",
     "output_type": "stream",
     "text": [
      "The area= 20\n",
      "The volume =  40\n"
     ]
    }
   ],
   "source": [
    "# function without argument and return type\n",
    "def area():\n",
    "    l = 10         \n",
    "    b = 2         \n",
    "    a = l*b\n",
    "    return a\n",
    "    \n",
    "\n",
    "ar = area()\n",
    "h = 2\n",
    "v = ar*h\n",
    "print(\"The area=\",ar)\n",
    "print(\"The volume = \",v)"
   ]
  },
  {
   "cell_type": "code",
   "execution_count": null,
   "id": "daab877d",
   "metadata": {},
   "outputs": [],
   "source": [
    "# function with argument and return type\n",
    "def area(l,b): \n",
    "    a = l*b\n",
    "    return a\n",
    "    \n",
    "l = int(input(\"Enter l = \"))\n",
    "b = int(input(\"Enter b = \"))\n",
    "\n",
    "ar = area(l,b)\n",
    "\n",
    "print(\"The area = \",ar)"
   ]
  },
  {
   "cell_type": "code",
   "execution_count": 9,
   "id": "0c2c9efd",
   "metadata": {},
   "outputs": [
    {
     "name": "stdout",
     "output_type": "stream",
     "text": [
      "Enter l = 100\n",
      "Enter b = 50\n",
      "Enter h = 10\n",
      "(5000, 50000)\n"
     ]
    }
   ],
   "source": [
    "# function with argument and return type\n",
    "def cal(l,b,h): \n",
    "    a = l*b\n",
    "    v = a*h\n",
    "    return a,v\n",
    "    \n",
    "l = int(input(\"Enter l = \"))\n",
    "b = int(input(\"Enter b = \"))\n",
    "h = int(input(\"Enter h = \"))\n",
    "av = cal(l,b,h)\n",
    "print(av)\n",
    "ar,vo = av\n",
    "print(\"The area = \",ar)\n",
    "print(\"The volume = \",vo)"
   ]
  },
  {
   "cell_type": "code",
   "execution_count": null,
   "id": "55385b48",
   "metadata": {},
   "outputs": [],
   "source": [
    "# function with argument and return type\n",
    "def cal(x): \n",
    "    l,b,h = x\n",
    "    a = l*b\n",
    "    v = a*h\n",
    "    return a,v\n",
    "    \n",
    "l = int(input(\"Enter l = \"))\n",
    "b = int(input(\"Enter b = \"))\n",
    "h = int(input(\"Enter h = \"))\n",
    "data = (l,b,h)\n",
    "av = cal(data)\n",
    "\n",
    "print(av)\n",
    "ar,vo = av\n",
    "print(\"The area = \",ar)\n",
    "print(\"The volume = \",vo)"
   ]
  },
  {
   "cell_type": "code",
   "execution_count": null,
   "id": "9028df81",
   "metadata": {},
   "outputs": [],
   "source": [
    "def hello():\n",
    "    print(\"Hello World\")\n",
    "    hello()    \n",
    "    \n",
    "hello()"
   ]
  },
  {
   "cell_type": "code",
   "execution_count": null,
   "id": "12dea97a",
   "metadata": {},
   "outputs": [],
   "source": [
    "def hello():\n",
    "    print(\"Hello World\")\n",
    "    x = input(\"Enter y for more print.\")\n",
    "    if x == 'y':\n",
    "        hello()    \n",
    "    \n",
    "hello()"
   ]
  },
  {
   "cell_type": "code",
   "execution_count": 2,
   "id": "259ba502",
   "metadata": {},
   "outputs": [
    {
     "name": "stdout",
     "output_type": "stream",
     "text": [
      "Enter name = Apple\n",
      "Enter price = 200\n",
      "Enter quantity = 3\n",
      "Enter y for more entryy\n",
      "Enter name = Banana\n",
      "Enter price = 89\n",
      "Enter quantity = 7\n",
      "Enter y for more entrygjhg\n"
     ]
    }
   ],
   "source": [
    "s = str()\n",
    "def bills():\n",
    "    global s\n",
    "    name = input(\"Enter name = \")\n",
    "    price = int(input(\"Enter price = \"))\n",
    "    quantity = int(input(\"Enter quantity = \"))\n",
    "    total = price*quantity\n",
    "    s = s + f\"{name} {price} {quantity} {total}\\n\"\n",
    "    x = input(\"Enter y for more entry\")\n",
    "    if x =='y':\n",
    "        bills()\n",
    "\n",
    "bills()\n",
    "print(s)"
   ]
  },
  {
   "cell_type": "code",
   "execution_count": 3,
   "id": "dd3bcdbe",
   "metadata": {},
   "outputs": [
    {
     "name": "stdout",
     "output_type": "stream",
     "text": [
      "Apple 200 3 600\n",
      "Banana 89 7 623\n",
      "\n"
     ]
    }
   ],
   "source": [
    "print(s)"
   ]
  },
  {
   "cell_type": "code",
   "execution_count": null,
   "id": "1de30aaa",
   "metadata": {},
   "outputs": [],
   "source": [
    "# math fuction"
   ]
  }
 ],
 "metadata": {
  "kernelspec": {
   "display_name": "Python 3 (ipykernel)",
   "language": "python",
   "name": "python3"
  },
  "language_info": {
   "codemirror_mode": {
    "name": "ipython",
    "version": 3
   },
   "file_extension": ".py",
   "mimetype": "text/x-python",
   "name": "python",
   "nbconvert_exporter": "python",
   "pygments_lexer": "ipython3",
   "version": "3.9.12"
  }
 },
 "nbformat": 4,
 "nbformat_minor": 5
}
