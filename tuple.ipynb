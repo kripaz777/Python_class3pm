{
 "cells": [
  {
   "cell_type": "code",
   "execution_count": 1,
   "id": "7dd021e7",
   "metadata": {},
   "outputs": [],
   "source": [
    "# Tuple\n",
    "# -Indexing\n",
    "# -Ordered\n",
    "# -multiple values\n",
    "# -Duplicate Values\n",
    "# -Imutable\n"
   ]
  },
  {
   "cell_type": "code",
   "execution_count": 2,
   "id": "f0f0a72e",
   "metadata": {},
   "outputs": [
    {
     "name": "stdout",
     "output_type": "stream",
     "text": [
      "('Apple', 'Ball', 'Cat')\n",
      "<class 'tuple'>\n"
     ]
    }
   ],
   "source": [
    "t = tuple()\n",
    "t = (1,2,3,4,5,6)\n",
    "r = (\"Apple\",\"Ball\",\"Cat\")\n",
    "print(r)\n",
    "print(type(r))"
   ]
  },
  {
   "cell_type": "code",
   "execution_count": 6,
   "id": "2626dc29",
   "metadata": {},
   "outputs": [
    {
     "data": {
      "text/plain": [
       "tuple"
      ]
     },
     "execution_count": 6,
     "metadata": {},
     "output_type": "execute_result"
    }
   ],
   "source": [
    "r = (\"Apple\",)\n",
    "type(r)"
   ]
  },
  {
   "cell_type": "code",
   "execution_count": 7,
   "id": "64f2f41a",
   "metadata": {},
   "outputs": [
    {
     "data": {
      "text/plain": [
       "(1, 2, 3, 4, 5)"
      ]
     },
     "execution_count": 7,
     "metadata": {},
     "output_type": "execute_result"
    }
   ],
   "source": [
    "r = 1,2,3,4,5\n",
    "r"
   ]
  },
  {
   "cell_type": "code",
   "execution_count": 9,
   "id": "caa52030",
   "metadata": {},
   "outputs": [
    {
     "data": {
      "text/plain": [
       "'Ball'"
      ]
     },
     "execution_count": 9,
     "metadata": {},
     "output_type": "execute_result"
    }
   ],
   "source": [
    "r = (\"Apple\",\"Ball\",\"Cat\")\n",
    "r[1]"
   ]
  },
  {
   "cell_type": "code",
   "execution_count": 10,
   "id": "bf9f32fb",
   "metadata": {},
   "outputs": [
    {
     "data": {
      "text/plain": [
       "(1, 2, 3, 4, 5, 6, 'Apple', 'Ball', 'Cat')"
      ]
     },
     "execution_count": 10,
     "metadata": {},
     "output_type": "execute_result"
    }
   ],
   "source": [
    "t = (1,2,3,4,5,6)\n",
    "r = (\"Apple\",\"Ball\",\"Cat\")\n",
    "t+r"
   ]
  },
  {
   "cell_type": "code",
   "execution_count": 11,
   "id": "8f9419a0",
   "metadata": {},
   "outputs": [
    {
     "data": {
      "text/plain": [
       "('Apple', 'Ball', 'Cat', 'Apple', 'Ball', 'Cat')"
      ]
     },
     "execution_count": 11,
     "metadata": {},
     "output_type": "execute_result"
    }
   ],
   "source": [
    "r = (\"Apple\",\"Ball\",\"Cat\")\n",
    "r*2"
   ]
  },
  {
   "cell_type": "code",
   "execution_count": 1,
   "id": "1f010ccd",
   "metadata": {},
   "outputs": [
    {
     "name": "stdout",
     "output_type": "stream",
     "text": [
      "Enter n = 5\n",
      "Enter x = 123\n",
      "Enter x = 45\n",
      "Enter x = 23\n",
      "Enter x = 456\n",
      "Enter x = 231\n",
      "(123, 45, 23, 456, 231)\n"
     ]
    }
   ],
   "source": [
    "# WAP to create a tuple by taking data from user\n",
    "t = tuple()\n",
    "n = int(input(\"Enter n = \"))\n",
    "for i in range(n):\n",
    "    x = int(input(\"Enter x = \"))\n",
    "    t = t+(x,)\n",
    "\n",
    "print(t)"
   ]
  },
  {
   "cell_type": "code",
   "execution_count": 2,
   "id": "cf0b1b13",
   "metadata": {},
   "outputs": [],
   "source": [
    "# no append() insert() extend()\n",
    "# no update\n",
    "# no del remove() pop()\n",
    "# no sort()"
   ]
  },
  {
   "cell_type": "code",
   "execution_count": 6,
   "id": "2d21a2e6",
   "metadata": {},
   "outputs": [
    {
     "data": {
      "text/plain": [
       "(45, 23, 456, 231)"
      ]
     },
     "execution_count": 6,
     "metadata": {},
     "output_type": "execute_result"
    }
   ],
   "source": [
    "t= (123, 45, 23, 456, 231)\n",
    "x = list(t)\n",
    "del x[0]\n",
    "t = tuple(x)\n",
    "t"
   ]
  },
  {
   "cell_type": "code",
   "execution_count": null,
   "id": "794c2f31",
   "metadata": {},
   "outputs": [],
   "source": [
    "# sum() max() min() index()"
   ]
  },
  {
   "cell_type": "code",
   "execution_count": null,
   "id": "30b8e436",
   "metadata": {},
   "outputs": [],
   "source": [
    "# tuple inside tuple\n",
    "a = ((1,2,3),\n",
    "     (4,5,6),\n",
    "     (7,8,9))\n"
   ]
  },
  {
   "cell_type": "code",
   "execution_count": 2,
   "id": "1634a9d8",
   "metadata": {},
   "outputs": [
    {
     "name": "stdout",
     "output_type": "stream",
     "text": [
      "Enter n = 2\n",
      "Enter name = sfdsf\n",
      "Enter age = 324\n",
      "Enter add = sfdd\n",
      "Enter name = dfgdfg\n",
      "Enter age = 342\n",
      "Enter add = dgdfg\n",
      "(('sfdsf', 324, 'sfdd'), ('dfgdfg', 342, 'dgdfg'))\n"
     ]
    }
   ],
   "source": [
    "data = tuple()\n",
    "n = int(input(\"Enter n = \"))\n",
    "for i in range(n):\n",
    "    name = input(\"Enter name = \")\n",
    "    age = int(input(\"Enter age = \"))\n",
    "    add = input(\"Enter add = \")\n",
    "    data = data + ((name,age,add),)\n",
    "\n",
    "print(data)"
   ]
  },
  {
   "cell_type": "code",
   "execution_count": null,
   "id": "016b8fc6",
   "metadata": {},
   "outputs": [],
   "source": [
    "#tuple inside list\n",
    "a = [('sfdsf', 324, 'sfdd'), ('dfgdfg', 342, 'dgdfg')]\n",
    "\n",
    "#list inside tuple\n",
    "b = (['sfdsf', 324, 'sfdd'], ['dfgdfg', 342, 'dgdfg'])\n"
   ]
  },
  {
   "cell_type": "code",
   "execution_count": 4,
   "id": "0f42431d",
   "metadata": {},
   "outputs": [
    {
     "data": {
      "text/plain": [
       "[('dfgdfg', 342, 'dgdfg')]"
      ]
     },
     "execution_count": 4,
     "metadata": {},
     "output_type": "execute_result"
    }
   ],
   "source": [
    "a = [('sfdsf', 324, 'sfdd'), ('dfgdfg', 342, 'dgdfg')]\n",
    "del a[0]\n",
    "a"
   ]
  },
  {
   "cell_type": "code",
   "execution_count": 6,
   "id": "4fe0de8a",
   "metadata": {},
   "outputs": [
    {
     "ename": "TypeError",
     "evalue": "'tuple' object doesn't support item deletion",
     "output_type": "error",
     "traceback": [
      "\u001b[1;31m---------------------------------------------------------------------------\u001b[0m",
      "\u001b[1;31mTypeError\u001b[0m                                 Traceback (most recent call last)",
      "Input \u001b[1;32mIn [6]\u001b[0m, in \u001b[0;36m<cell line: 2>\u001b[1;34m()\u001b[0m\n\u001b[0;32m      1\u001b[0m a \u001b[38;5;241m=\u001b[39m [(\u001b[38;5;124m'\u001b[39m\u001b[38;5;124msfdsf\u001b[39m\u001b[38;5;124m'\u001b[39m, \u001b[38;5;241m324\u001b[39m, \u001b[38;5;124m'\u001b[39m\u001b[38;5;124msfdd\u001b[39m\u001b[38;5;124m'\u001b[39m), (\u001b[38;5;124m'\u001b[39m\u001b[38;5;124mdfgdfg\u001b[39m\u001b[38;5;124m'\u001b[39m, \u001b[38;5;241m342\u001b[39m, \u001b[38;5;124m'\u001b[39m\u001b[38;5;124mdgdfg\u001b[39m\u001b[38;5;124m'\u001b[39m)]\n\u001b[1;32m----> 2\u001b[0m \u001b[38;5;28;01mdel\u001b[39;00m a[\u001b[38;5;241m0\u001b[39m][\u001b[38;5;241m0\u001b[39m]\n",
      "\u001b[1;31mTypeError\u001b[0m: 'tuple' object doesn't support item deletion"
     ]
    }
   ],
   "source": [
    "a = [('sfdsf', 324, 'sfdd'), ('dfgdfg', 342, 'dgdfg')]\n",
    "del a[0][0]"
   ]
  },
  {
   "cell_type": "code",
   "execution_count": 8,
   "id": "668e6398",
   "metadata": {},
   "outputs": [
    {
     "ename": "TypeError",
     "evalue": "'tuple' object doesn't support item deletion",
     "output_type": "error",
     "traceback": [
      "\u001b[1;31m---------------------------------------------------------------------------\u001b[0m",
      "\u001b[1;31mTypeError\u001b[0m                                 Traceback (most recent call last)",
      "Input \u001b[1;32mIn [8]\u001b[0m, in \u001b[0;36m<cell line: 2>\u001b[1;34m()\u001b[0m\n\u001b[0;32m      1\u001b[0m b \u001b[38;5;241m=\u001b[39m ([\u001b[38;5;124m'\u001b[39m\u001b[38;5;124msfdsf\u001b[39m\u001b[38;5;124m'\u001b[39m, \u001b[38;5;241m324\u001b[39m, \u001b[38;5;124m'\u001b[39m\u001b[38;5;124msfdd\u001b[39m\u001b[38;5;124m'\u001b[39m], [\u001b[38;5;124m'\u001b[39m\u001b[38;5;124mdfgdfg\u001b[39m\u001b[38;5;124m'\u001b[39m, \u001b[38;5;241m342\u001b[39m, \u001b[38;5;124m'\u001b[39m\u001b[38;5;124mdgdfg\u001b[39m\u001b[38;5;124m'\u001b[39m])\n\u001b[1;32m----> 2\u001b[0m \u001b[38;5;28;01mdel\u001b[39;00m b[\u001b[38;5;241m0\u001b[39m]\n",
      "\u001b[1;31mTypeError\u001b[0m: 'tuple' object doesn't support item deletion"
     ]
    }
   ],
   "source": [
    "b = (['sfdsf', 324, 'sfdd'], ['dfgdfg', 342, 'dgdfg'])\n",
    "del b[0]"
   ]
  },
  {
   "cell_type": "code",
   "execution_count": 10,
   "id": "4f3d665f",
   "metadata": {},
   "outputs": [
    {
     "data": {
      "text/plain": [
       "([324, 'sfdd'], ['dfgdfg', 342, 'dgdfg'])"
      ]
     },
     "execution_count": 10,
     "metadata": {},
     "output_type": "execute_result"
    }
   ],
   "source": [
    "b = (['sfdsf', 324, 'sfdd'], ['dfgdfg', 342, 'dgdfg'])\n",
    "del b[0][0]\n",
    "b"
   ]
  },
  {
   "cell_type": "code",
   "execution_count": null,
   "id": "1c9c58b9",
   "metadata": {},
   "outputs": [],
   "source": [
    "# search index() sorted()"
   ]
  },
  {
   "cell_type": "code",
   "execution_count": 12,
   "id": "c71955fa",
   "metadata": {},
   "outputs": [
    {
     "data": {
      "text/plain": [
       "[24, 76, 234, 234, 234, 546, 657]"
      ]
     },
     "execution_count": 12,
     "metadata": {},
     "output_type": "execute_result"
    }
   ],
   "source": [
    "a = (234,546,234,657,24,76,234)\n",
    "sorted(a)"
   ]
  },
  {
   "cell_type": "code",
   "execution_count": null,
   "id": "7b1f263a",
   "metadata": {},
   "outputs": [],
   "source": []
  }
 ],
 "metadata": {
  "kernelspec": {
   "display_name": "Python 3 (ipykernel)",
   "language": "python",
   "name": "python3"
  },
  "language_info": {
   "codemirror_mode": {
    "name": "ipython",
    "version": 3
   },
   "file_extension": ".py",
   "mimetype": "text/x-python",
   "name": "python",
   "nbconvert_exporter": "python",
   "pygments_lexer": "ipython3",
   "version": "3.9.12"
  }
 },
 "nbformat": 4,
 "nbformat_minor": 5
}
