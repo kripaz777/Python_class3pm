{
 "cells": [
  {
   "cell_type": "code",
   "execution_count": 1,
   "id": "7e3e80f7",
   "metadata": {},
   "outputs": [],
   "source": [
    "# class <class_name>:\n",
    "#     <operations>\n",
    "    \n",
    "# obj = <class_name>()"
   ]
  },
  {
   "cell_type": "code",
   "execution_count": 2,
   "id": "d92e391e",
   "metadata": {},
   "outputs": [
    {
     "name": "stdout",
     "output_type": "stream",
     "text": [
      "Hello World\n"
     ]
    }
   ],
   "source": [
    "class Hello:                 #class\n",
    "    print(\"Hello World\")\n",
    "    \n",
    "obj = Hello()                #object"
   ]
  },
  {
   "cell_type": "code",
   "execution_count": 4,
   "id": "7c28e5ca",
   "metadata": {},
   "outputs": [
    {
     "name": "stdout",
     "output_type": "stream",
     "text": [
      "Hello World\n"
     ]
    }
   ],
   "source": [
    "class Hello:                 #class\n",
    "    def hello(self):\n",
    "        print(\"Hello World\")\n",
    "    \n",
    "obj = Hello()                #object\n",
    "obj.hello()"
   ]
  },
  {
   "cell_type": "code",
   "execution_count": 7,
   "id": "ae6fc0d3",
   "metadata": {},
   "outputs": [
    {
     "name": "stdout",
     "output_type": "stream",
     "text": [
      "Enter l = 10\n",
      "Enter b = 5\n",
      "Enter h = 2\n",
      "The area is =  50\n",
      "The volume is =  100\n"
     ]
    }
   ],
   "source": [
    "class Cal:\n",
    "    \n",
    "    def cal(self):\n",
    "        l = int(input(\"Enter l = \"))\n",
    "        b = int(input(\"Enter b = \"))\n",
    "        h = int(input(\"Enter h = \"))\n",
    "        a = l*b\n",
    "        v = a*h\n",
    "        print(\"The area is = \",a)\n",
    "        print(\"The volume is = \",v)\n",
    "        \n",
    "obj = Cal()\n",
    "obj.cal()"
   ]
  },
  {
   "cell_type": "code",
   "execution_count": null,
   "id": "a98b53f8",
   "metadata": {},
   "outputs": [],
   "source": [
    "class Cal:\n",
    "    @staticmethod\n",
    "    def cal():\n",
    "        l = int(input(\"Enter l = \"))\n",
    "        b = int(input(\"Enter b = \"))\n",
    "        h = int(input(\"Enter h = \"))\n",
    "        a = l*b\n",
    "        v = a*h\n",
    "        print(\"The area is = \",a)\n",
    "        print(\"The volume is = \",v)\n",
    "        \n",
    "obj = Cal()\n",
    "obj.cal()"
   ]
  },
  {
   "cell_type": "code",
   "execution_count": null,
   "id": "f01b195b",
   "metadata": {},
   "outputs": [],
   "source": [
    "class Cal:\n",
    "    def cal(self,x,y,z):\n",
    "        a = x*y\n",
    "        v = a*z\n",
    "        print(\"The area is = \",a)\n",
    "        print(\"The volume is = \",v)\n",
    "        \n",
    "l = int(input(\"Enter l = \"))\n",
    "b = int(input(\"Enter b = \"))\n",
    "h = int(input(\"Enter h = \"))\n",
    "\n",
    "obj = Cal()\n",
    "obj.cal(l,b,h)"
   ]
  },
  {
   "cell_type": "code",
   "execution_count": null,
   "id": "153b9c9b",
   "metadata": {},
   "outputs": [],
   "source": [
    "class Cal:\n",
    "    def area(self,x,y):\n",
    "        a = x*y\n",
    "        print(\"The area is = \",a)\n",
    "        \n",
    "    def volume(self,x,y,z):\n",
    "        v = x*y*z\n",
    "        print(v)\n",
    "        \n",
    "l = int(input(\"Enter l = \"))\n",
    "b = int(input(\"Enter b = \"))\n",
    "h = int(input(\"Enter h = \"))\n",
    "\n",
    "obj = Cal()\n",
    "obj.area(l,b)\n",
    "obj.volume(l,b,h)"
   ]
  },
  {
   "cell_type": "code",
   "execution_count": null,
   "id": "674e64b2",
   "metadata": {},
   "outputs": [],
   "source": [
    "class Cal:\n",
    "    def __init__(self,x,y,z):\n",
    "        self.x,self.y,self.z = x,y,z\n",
    "\n",
    "        \n",
    "    def area(self):\n",
    "        a = self.x*self.y\n",
    "        print(\"The area is = \",a)\n",
    "        \n",
    "    def volume(self):\n",
    "        v = self.x*self.y*self.z\n",
    "        print(v)\n",
    "        \n",
    "l = int(input(\"Enter l = \"))\n",
    "b = int(input(\"Enter b = \"))\n",
    "h = int(input(\"Enter h = \"))\n",
    "\n",
    "obj = Cal(l,b,h)\n",
    "obj.area()\n",
    "obj.volume()"
   ]
  },
  {
   "cell_type": "code",
   "execution_count": 10,
   "id": "9170f3dd",
   "metadata": {},
   "outputs": [
    {
     "name": "stdout",
     "output_type": "stream",
     "text": [
      "Enter name = RAm\n",
      "Enter age = 89\n",
      "Enter add = Kathmandu\n",
      "Hello World I am RAm. I am from Kathmandu. I am 89\n",
      "RAm 89 Kathmandu\n"
     ]
    }
   ],
   "source": [
    "class Info:\n",
    "    def __init__(self,name,age,add):\n",
    "        self.name = name\n",
    "        self.age = age\n",
    "        self.add = add\n",
    "        \n",
    "    def my_info(self):\n",
    "        print(f\"Hello World I am {self.name}. I am from {self.add}. I am {self.age}\")\n",
    "    \n",
    "name = input(\"Enter name = \")\n",
    "age = int(input('Enter age = '))\n",
    "add = input(\"Enter add = \")\n",
    "\n",
    "obj = Info(name,age,add)\n",
    "obj.my_info()\n",
    "print(obj.name,obj.age,obj.add)"
   ]
  },
  {
   "cell_type": "code",
   "execution_count": 3,
   "id": "1345ea13",
   "metadata": {},
   "outputs": [
    {
     "name": "stdout",
     "output_type": "stream",
     "text": [
      "Enter l = 100\n",
      "Enter b = 23\n",
      "Enter h = 2\n",
      "The area is =  2300\n",
      "4600\n"
     ]
    }
   ],
   "source": [
    "class Area:\n",
    "    def __init__(self,x,y):\n",
    "        self.x,self.y = x,y\n",
    "\n",
    "    def area(self):\n",
    "        a = self.x*self.y\n",
    "        print(\"The area is = \",a)\n",
    "        \n",
    "class Volume:\n",
    "    def __init__(self,x,y,z):\n",
    "        self.x,self.y,self.z = x,y,z\n",
    "    def volume(self):\n",
    "        v = self.x*self.y*self.z\n",
    "        print(\"The volume = \",v)\n",
    "        \n",
    "l = int(input(\"Enter l = \"))\n",
    "b = int(input(\"Enter b = \"))\n",
    "h = int(input(\"Enter h = \"))\n",
    "\n",
    "obj = Volume(l,b,h)\n",
    "obj1 = Area(l,b)\n",
    "obj1.area()\n",
    "obj.volume()"
   ]
  },
  {
   "cell_type": "code",
   "execution_count": 4,
   "id": "3fd2ddbf",
   "metadata": {},
   "outputs": [],
   "source": [
    "# __str__"
   ]
  },
  {
   "cell_type": "code",
   "execution_count": 9,
   "id": "9a4710e7",
   "metadata": {},
   "outputs": [
    {
     "name": "stdout",
     "output_type": "stream",
     "text": [
      "Enter name = Ram\n",
      "Enter age = 20\n",
      "Enter add = Kathmandu\n",
      "Ram\n",
      "Ram\n",
      "Ram\n"
     ]
    }
   ],
   "source": [
    "class Info:\n",
    "    def __init__(self,name,age,add):\n",
    "        self.name = name\n",
    "        self.age = age\n",
    "        self.add = add\n",
    "        \n",
    "    def __str__(self):\n",
    "        return self.name\n",
    "    \n",
    "    \n",
    "name = input(\"Enter name = \")\n",
    "age = int(input('Enter age = '))\n",
    "add = input(\"Enter add = \")\n",
    "\n",
    "obj = Info(name,age,add)\n",
    "print(obj)\n",
    "print(obj.__str__())\n",
    "print(str(obj))"
   ]
  },
  {
   "cell_type": "code",
   "execution_count": 14,
   "id": "258a4e80",
   "metadata": {},
   "outputs": [
    {
     "name": "stdout",
     "output_type": "stream",
     "text": [
      "3000\n"
     ]
    }
   ],
   "source": [
    "class Total:\n",
    "    def __init__(self,x):\n",
    "        self.x = x\n",
    "    def __str__(self):\n",
    "        return str(self.x)\n",
    "    def __add__(self,other):\n",
    "        x = self.x+other.x\n",
    "        return Total(x)\n",
    "        \n",
    "obj = Total(1000)\n",
    "obj1 = Total(2000)\n",
    "print(obj+obj1)\n"
   ]
  },
  {
   "cell_type": "code",
   "execution_count": 18,
   "id": "91f61363",
   "metadata": {},
   "outputs": [
    {
     "name": "stdout",
     "output_type": "stream",
     "text": [
      "This is init method 1000\n",
      "This is init method 2000\n",
      "This is init method 4000\n",
      "This is add method 3000\n",
      "This is init method 3000\n",
      "This is add method 7000\n",
      "This is init method 7000\n",
      "This is str method 7000\n",
      "7000\n",
      "This is add method 3000\n",
      "This is init method 3000\n",
      "This is add method 7000\n",
      "This is init method 7000\n"
     ]
    },
    {
     "data": {
      "text/plain": [
       "__main__.Total"
      ]
     },
     "execution_count": 18,
     "metadata": {},
     "output_type": "execute_result"
    }
   ],
   "source": [
    "class Total:\n",
    "    def __init__(self,x):\n",
    "        self.x = x\n",
    "        print(\"This is init method\",self.x)\n",
    "    def __str__(self):\n",
    "        print(\"This is str method\",self.x)\n",
    "        return str(self.x)\n",
    "    def __add__(self,other):\n",
    "        x = self.x+other.x\n",
    "        print(\"This is add method\",x)\n",
    "        return Total(x)\n",
    "        \n",
    "obj = Total(1000)\n",
    "obj1 = Total(2000)\n",
    "obj2 = Total(4000)\n",
    "print(obj+obj1+obj2)"
   ]
  },
  {
   "cell_type": "code",
   "execution_count": 19,
   "id": "abc23033",
   "metadata": {},
   "outputs": [
    {
     "ename": "TypeError",
     "evalue": "unsupported operand type(s) for +: 'Point' and 'Point'",
     "output_type": "error",
     "traceback": [
      "\u001b[1;31m---------------------------------------------------------------------------\u001b[0m",
      "\u001b[1;31mTypeError\u001b[0m                                 Traceback (most recent call last)",
      "Input \u001b[1;32mIn [19]\u001b[0m, in \u001b[0;36m<cell line: 9>\u001b[1;34m()\u001b[0m\n\u001b[0;32m      6\u001b[0m p1 \u001b[38;5;241m=\u001b[39m Point(\u001b[38;5;241m2\u001b[39m,\u001b[38;5;241m3\u001b[39m)\n\u001b[0;32m      7\u001b[0m p2 \u001b[38;5;241m=\u001b[39m Point(\u001b[38;5;241m-\u001b[39m\u001b[38;5;241m1\u001b[39m,\u001b[38;5;241m2\u001b[39m)\n\u001b[1;32m----> 9\u001b[0m \u001b[43mp1\u001b[49m\u001b[43m \u001b[49m\u001b[38;5;241;43m+\u001b[39;49m\u001b[43m \u001b[49m\u001b[43mp2\u001b[49m\n",
      "\u001b[1;31mTypeError\u001b[0m: unsupported operand type(s) for +: 'Point' and 'Point'"
     ]
    }
   ],
   "source": [
    "class Point:\n",
    "    def __init__(self, x, y):\n",
    "        self.x = x\n",
    "        self.y = y\n",
    "\n",
    "p1 = Point(2,3)\n",
    "p2 = Point(-1,2)\n",
    "\n",
    "p1 + p2"
   ]
  },
  {
   "cell_type": "code",
   "execution_count": 20,
   "id": "6c4371a1",
   "metadata": {},
   "outputs": [
    {
     "name": "stdout",
     "output_type": "stream",
     "text": [
      "(1,5)\n"
     ]
    }
   ],
   "source": [
    "class Point:\n",
    "    def __init__(self, x = 0, y = 0):\n",
    "        self.x = x\n",
    "        self.y = y\n",
    "\n",
    "    def __str__(self):\n",
    "        return f\"({self.x},{self.y})\"\n",
    "\n",
    "    def __add__(self,other):\n",
    "        x = self.x + other.x\n",
    "        y = self.y + other.y\n",
    "        return Point(x,y)\n",
    "\n",
    "p1 = Point(2,3)\n",
    "p2 = Point(-1,2)\n",
    "\n",
    "print(p1 + p2)  "
   ]
  },
  {
   "cell_type": "code",
   "execution_count": null,
   "id": "44b7f4d0",
   "metadata": {},
   "outputs": [],
   "source": []
  }
 ],
 "metadata": {
  "kernelspec": {
   "display_name": "Python 3 (ipykernel)",
   "language": "python",
   "name": "python3"
  },
  "language_info": {
   "codemirror_mode": {
    "name": "ipython",
    "version": 3
   },
   "file_extension": ".py",
   "mimetype": "text/x-python",
   "name": "python",
   "nbconvert_exporter": "python",
   "pygments_lexer": "ipython3",
   "version": "3.9.12"
  }
 },
 "nbformat": 4,
 "nbformat_minor": 5
}
